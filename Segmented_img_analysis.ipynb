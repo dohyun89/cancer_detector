{
 "cells": [
  {
   "cell_type": "code",
   "execution_count": 59,
   "metadata": {},
   "outputs": [],
   "source": [
    "import numpy as np\n",
    "import pandas as pd\n",
    "import sklearn as sk\n",
    "import seaborn as sns\n",
    "import cv2 as cv\n",
    "import os\n",
    "\n",
    "from sklearn.model_selection import cross_val_score\n",
    "from sklearn.model_selection import train_test_split\n",
    "from sklearn.model_selection import GridSearchCV\n",
    "from sklearn.metrics import confusion_matrix\n",
    "from sklearn.metrics import accuracy_score\n",
    "from sklearn.metrics import classification_report\n",
    "from sklearn.svm import SVC\n",
    "from sklearn.linear_model import LogisticRegression as LR\n",
    "from sklearn.ensemble import RandomForestClassifier as RF\n",
    "from sklearn.decomposition import PCA\n",
    "\n",
    "import sys\n",
    "sys.path.append('./Do_s_python_utils')\n",
    "from resize_imgs import *\n",
    "from flatten_imgs_np_array import *"
   ]
  },
  {
   "cell_type": "markdown",
   "metadata": {},
   "source": [
    "## resizing segmented files. "
   ]
  },
  {
   "cell_type": "code",
   "execution_count": 60,
   "metadata": {},
   "outputs": [],
   "source": [
    "seg_benign_path = 'C:\\\\Users\\\\dohyu\\\\Documents\\\\Homework\\\\stat_542_hw\\\\stat_542_group\\\\Segmented\\\\benign'\n",
    "seg_malignant_path = 'C:\\\\Users\\\\dohyu\\\\Documents\\\\Homework\\\\stat_542_hw\\\\stat_542_group\\\\Segmented\\\\malignant'\n",
    "seg_benign_path_28 = 'C:\\\\Users\\\\dohyu\\\\Documents\\\\Homework\\\\stat_542_hw\\\\stat_542_group\\\\Segmented_28\\\\benign'\n",
    "seg_malignant_path_28 = 'C:\\\\Users\\\\dohyu\\\\Documents\\\\Homework\\\\stat_542_hw\\\\stat_542_group\\\\Segmented_28\\\\malignant'\n",
    "resize_imgs(seg_benign_path, seg_benign_path_28, (28,28))\n",
    "resize_imgs(seg_malignant_path, seg_malignant_path_28, (28,28))"
   ]
  },
  {
   "cell_type": "markdown",
   "metadata": {},
   "source": [
    "## X and y (flattened and splitted)"
   ]
  },
  {
   "cell_type": "code",
   "execution_count": 61,
   "metadata": {},
   "outputs": [],
   "source": [
    "seg_path_28 = 'C:\\\\Users\\\\dohyu\\\\Documents\\\\Homework\\\\stat_542_hw\\\\stat_542_group\\\\Segmented_28'\n",
    "X, y = flatten_imgs_np_array(seg_path_28)\n",
    "X = X/255\n",
    "X_train, X_test, y_train, y_test = train_test_split(X, y, test_size = 0.20, random_state = 42)"
   ]
  },
  {
   "cell_type": "code",
   "execution_count": 62,
   "metadata": {},
   "outputs": [],
   "source": [
    "def perf_summary(model, y_test, y_pred, X, y, cv):\n",
    "    score = cross_val_score(model, X, y, cv = cv, n_jobs = -1 )\n",
    "    avg_acc = np.mean(score)\n",
    "    std_acc = np.std(score)\n",
    "    print('********************* Model Performance Summary *********************\\n\\n')\n",
    "    print('***** Cross Validation using {} folds *****\\nMean Accuracy: {}\\nSTD: {}'.format(cv, avg_acc, std_acc))\n",
    "    \n",
    "    print('\\n***** Confusion Matrix *****\\n{}'.format(confusion_matrix(y_test,y_pred)))\n",
    "    print('\\n***** Classification Report *****\\n{}'.format(classification_report(y_test,y_pred)))\n",
    "    print('\\n***** Classification Accuracy *****\\n{}'.format(accuracy_score(y_test,y_pred)))\n",
    "    print('\\n**********************************************************************')\n",
    "\n",
    "    \n",
    "def grid_scv(X_train, y_train):\n",
    "    param_grids = {'kernel': ['linear', 'poly'],\n",
    "              'C':[1,2,3,4,5,6,6,7,8,9,10]}\n",
    "\n",
    "    svc_clf = SVC(gamma = 'auto', cache_size = 7000)\n",
    "    grid_svc = GridSearchCV(svc_clf, param_grids, n_jobs = -1, verbose = 1)\n",
    "    grid_svc.fit(X_train, y_train)\n",
    "    return(grid_svc.best_estimator_)\n",
    "\n",
    "def grid_rf(X_train,y_train):\n",
    "    n_estimators = [100,500]\n",
    "    max_depth = [None, 5, 10]\n",
    "    min_samples_split = [2, 5]\n",
    "    min_samples_leaf = [1, 2, 4]\n",
    "    param_grids = {'n_estimators': n_estimators,\n",
    "                   'max_depth': max_depth,\n",
    "                   'min_samples_split': min_samples_split,\n",
    "                   'min_samples_leaf': min_samples_leaf}\n",
    "    randf_clf = RF(n_jobs = -1)\n",
    "    grid_RF = GridSearchCV(randf_clf,param_grids, n_jobs = -1, verbose = 1)\n",
    "    grid_RF.fit(X_train, y_train)\n",
    "    return(grid_RF.best_estimator_)"
   ]
  },
  {
   "cell_type": "markdown",
   "metadata": {},
   "source": [
    "### Training logistic with L1 Penalty"
   ]
  },
  {
   "cell_type": "code",
   "execution_count": 63,
   "metadata": {
    "scrolled": false
   },
   "outputs": [
    {
     "name": "stdout",
     "output_type": "stream",
     "text": [
      "********************* Model Performance Summary *********************\n",
      "\n",
      "\n",
      "***** Cross Validation using 10 folds *****\n",
      "Mean Accuracy: 0.6133333333333334\n",
      "STD: 0.08589399151150083\n",
      "\n",
      "***** Confusion Matrix *****\n",
      "[[22  7]\n",
      " [18 13]]\n",
      "\n",
      "***** Classification Report *****\n",
      "              precision    recall  f1-score   support\n",
      "\n",
      "           0       0.55      0.76      0.64        29\n",
      "           1       0.65      0.42      0.51        31\n",
      "\n",
      "    accuracy                           0.58        60\n",
      "   macro avg       0.60      0.59      0.57        60\n",
      "weighted avg       0.60      0.58      0.57        60\n",
      "\n",
      "\n",
      "***** Classification Accuracy *****\n",
      "0.5833333333333334\n",
      "\n",
      "**********************************************************************\n"
     ]
    }
   ],
   "source": [
    "lr_clf = LR(penalty = 'l1', solver = 'liblinear')\n",
    "lr_clf.fit(X_train, y_train)\n",
    "y_pred = lr_clf.predict(X_test)\n",
    "perf_summary(lr_clf, y_test,y_pred, X, y, cv = 10)"
   ]
  },
  {
   "cell_type": "markdown",
   "metadata": {},
   "source": [
    "### Training SVC"
   ]
  },
  {
   "cell_type": "code",
   "execution_count": 64,
   "metadata": {
    "scrolled": false
   },
   "outputs": [
    {
     "name": "stderr",
     "output_type": "stream",
     "text": [
      "C:\\ProgramData\\Anaconda3\\lib\\site-packages\\sklearn\\model_selection\\_split.py:1978: FutureWarning: The default value of cv will change from 3 to 5 in version 0.22. Specify it explicitly to silence this warning.\n",
      "  warnings.warn(CV_WARNING, FutureWarning)\n"
     ]
    },
    {
     "name": "stdout",
     "output_type": "stream",
     "text": [
      "Fitting 3 folds for each of 22 candidates, totalling 66 fits\n"
     ]
    },
    {
     "name": "stderr",
     "output_type": "stream",
     "text": [
      "[Parallel(n_jobs=-1)]: Using backend LokyBackend with 4 concurrent workers.\n",
      "[Parallel(n_jobs=-1)]: Done  42 tasks      | elapsed:   18.3s\n",
      "[Parallel(n_jobs=-1)]: Done  66 out of  66 | elapsed:   25.7s finished\n"
     ]
    },
    {
     "name": "stdout",
     "output_type": "stream",
     "text": [
      "********************* Model Performance Summary *********************\n",
      "\n",
      "\n",
      "***** Cross Validation using 10 folds *****\n",
      "Mean Accuracy: 0.5466666666666666\n",
      "STD: 0.0669991708074726\n",
      "\n",
      "***** Confusion Matrix *****\n",
      "[[19 10]\n",
      " [13 18]]\n",
      "\n",
      "***** Classification Report *****\n",
      "              precision    recall  f1-score   support\n",
      "\n",
      "           0       0.59      0.66      0.62        29\n",
      "           1       0.64      0.58      0.61        31\n",
      "\n",
      "    accuracy                           0.62        60\n",
      "   macro avg       0.62      0.62      0.62        60\n",
      "weighted avg       0.62      0.62      0.62        60\n",
      "\n",
      "\n",
      "***** Classification Accuracy *****\n",
      "0.6166666666666667\n",
      "\n",
      "**********************************************************************\n"
     ]
    }
   ],
   "source": [
    "svc_clf = grid_scv(X_train, y_train)\n",
    "svc_clf.fit(X_train, y_train)\n",
    "y_pred = svc_clf.predict(X_test)\n",
    "perf_summary(svc_clf, y_test,y_pred, X, y, cv = 10)"
   ]
  },
  {
   "cell_type": "markdown",
   "metadata": {},
   "source": [
    "### Training Random Forest"
   ]
  },
  {
   "cell_type": "code",
   "execution_count": 65,
   "metadata": {},
   "outputs": [
    {
     "name": "stderr",
     "output_type": "stream",
     "text": [
      "C:\\ProgramData\\Anaconda3\\lib\\site-packages\\sklearn\\model_selection\\_split.py:1978: FutureWarning: The default value of cv will change from 3 to 5 in version 0.22. Specify it explicitly to silence this warning.\n",
      "  warnings.warn(CV_WARNING, FutureWarning)\n"
     ]
    },
    {
     "name": "stdout",
     "output_type": "stream",
     "text": [
      "Fitting 3 folds for each of 36 candidates, totalling 108 fits\n"
     ]
    },
    {
     "name": "stderr",
     "output_type": "stream",
     "text": [
      "[Parallel(n_jobs=-1)]: Using backend LokyBackend with 4 concurrent workers.\n",
      "[Parallel(n_jobs=-1)]: Done  42 tasks      | elapsed:   31.8s\n",
      "[Parallel(n_jobs=-1)]: Done 108 out of 108 | elapsed:  1.2min finished\n",
      "C:\\ProgramData\\Anaconda3\\lib\\site-packages\\sklearn\\model_selection\\_search.py:814: DeprecationWarning: The default of the `iid` parameter will change from True to False in version 0.22 and will be removed in 0.24. This will change numeric results when test-set sizes are unequal.\n",
      "  DeprecationWarning)\n"
     ]
    },
    {
     "name": "stdout",
     "output_type": "stream",
     "text": [
      "********************* Model Performance Summary *********************\n",
      "\n",
      "\n",
      "***** Cross Validation using 10 folds *****\n",
      "Mean Accuracy: 0.6833333333333333\n",
      "STD: 0.09803627446568497\n",
      "\n",
      "***** Confusion Matrix *****\n",
      "[[21  8]\n",
      " [11 20]]\n",
      "\n",
      "***** Classification Report *****\n",
      "              precision    recall  f1-score   support\n",
      "\n",
      "           0       0.66      0.72      0.69        29\n",
      "           1       0.71      0.65      0.68        31\n",
      "\n",
      "    accuracy                           0.68        60\n",
      "   macro avg       0.69      0.68      0.68        60\n",
      "weighted avg       0.69      0.68      0.68        60\n",
      "\n",
      "\n",
      "***** Classification Accuracy *****\n",
      "0.6833333333333333\n",
      "\n",
      "**********************************************************************\n"
     ]
    }
   ],
   "source": [
    "RF_clf = grid_rf(X_train, y_train)\n",
    "RF_clf.fit(X_train,y_train)\n",
    "y_pred = RF_clf.predict(X_test)\n",
    "perf_summary(RF_clf, y_test,y_pred, X, y, cv = 10)"
   ]
  },
  {
   "cell_type": "markdown",
   "metadata": {},
   "source": [
    "### Building Models With Principal Components"
   ]
  },
  {
   "cell_type": "code",
   "execution_count": 66,
   "metadata": {
    "scrolled": false
   },
   "outputs": [
    {
     "data": {
      "text/plain": [
       "PCA(copy=True, iterated_power='auto', n_components=300, random_state=None,\n",
       "    svd_solver='auto', tol=0.0, whiten=False)"
      ]
     },
     "execution_count": 66,
     "metadata": {},
     "output_type": "execute_result"
    }
   ],
   "source": [
    "pca = PCA(300)\n",
    "pca.fit(X)\n"
   ]
  },
  {
   "cell_type": "code",
   "execution_count": 67,
   "metadata": {},
   "outputs": [
    {
     "data": {
      "text/plain": [
       "<matplotlib.axes._subplots.AxesSubplot at 0x1a9817a4550>"
      ]
     },
     "execution_count": 67,
     "metadata": {},
     "output_type": "execute_result"
    },
    {
     "data": {
      "image/png": "[encoded data removed]",
      "text/plain": [
       "<Figure size 432x288 with 1 Axes>"
      ]
     },
     "metadata": {
      "needs_background": "light"
     },
     "output_type": "display_data"
    }
   ],
   "source": [
    "stop = 10\n",
    "sns.scatterplot(x = np.linspace(start =1, stop = stop, num = stop),y=pca.explained_variance_ratio_[0:stop])"
   ]
  },
  {
   "cell_type": "code",
   "execution_count": 68,
   "metadata": {
    "scrolled": false
   },
   "outputs": [],
   "source": [
    "pca = PCA(5)\n",
    "pca.fit(X)\n",
    "X_pca = pca.transform(X)\n"
   ]
  },
  {
   "cell_type": "code",
   "execution_count": 69,
   "metadata": {},
   "outputs": [],
   "source": [
    "X_pca_train, X_pca_test, y_pca_train, y_pca_test=train_test_split(X_pca, y, test_size = 0.2, random_state = 42)"
   ]
  },
  {
   "cell_type": "markdown",
   "metadata": {},
   "source": [
    "### Logistic Regression with L1 Penalty"
   ]
  },
  {
   "cell_type": "code",
   "execution_count": 70,
   "metadata": {},
   "outputs": [
    {
     "name": "stdout",
     "output_type": "stream",
     "text": [
      "********************* Model Performance Summary *********************\n",
      "\n",
      "\n",
      "***** Cross Validation using 10 folds *****\n",
      "Mean Accuracy: 0.6666666666666667\n",
      "STD: 0.09428090415820635\n",
      "\n",
      "***** Confusion Matrix *****\n",
      "[[24  5]\n",
      " [18 13]]\n",
      "\n",
      "***** Classification Report *****\n",
      "              precision    recall  f1-score   support\n",
      "\n",
      "           0       0.57      0.83      0.68        29\n",
      "           1       0.72      0.42      0.53        31\n",
      "\n",
      "    accuracy                           0.62        60\n",
      "   macro avg       0.65      0.62      0.60        60\n",
      "weighted avg       0.65      0.62      0.60        60\n",
      "\n",
      "\n",
      "***** Classification Accuracy *****\n",
      "0.6166666666666667\n",
      "\n",
      "**********************************************************************\n"
     ]
    }
   ],
   "source": [
    "lr_pca_clf = LR(penalty = 'l1', solver = 'liblinear')\n",
    "lr_pca_clf.fit(X_pca_train, y_pca_train)\n",
    "y_pca_pred = lr_pca_clf.predict(X_pca_test)\n",
    "perf_summary(lr_pca_clf, y_pca_test,y_pca_pred, X_pca, y, cv = 10)"
   ]
  },
  {
   "cell_type": "markdown",
   "metadata": {},
   "source": [
    "### SVC with PCA"
   ]
  },
  {
   "cell_type": "code",
   "execution_count": 71,
   "metadata": {
    "scrolled": false
   },
   "outputs": [
    {
     "name": "stderr",
     "output_type": "stream",
     "text": [
      "C:\\ProgramData\\Anaconda3\\lib\\site-packages\\sklearn\\model_selection\\_split.py:1978: FutureWarning: The default value of cv will change from 3 to 5 in version 0.22. Specify it explicitly to silence this warning.\n",
      "  warnings.warn(CV_WARNING, FutureWarning)\n"
     ]
    },
    {
     "name": "stdout",
     "output_type": "stream",
     "text": [
      "Fitting 3 folds for each of 22 candidates, totalling 66 fits\n"
     ]
    },
    {
     "name": "stderr",
     "output_type": "stream",
     "text": [
      "[Parallel(n_jobs=-1)]: Using backend LokyBackend with 4 concurrent workers.\n",
      "[Parallel(n_jobs=-1)]: Done  42 tasks      | elapsed:   10.0s\n",
      "[Parallel(n_jobs=-1)]: Done  66 out of  66 | elapsed:   19.0s finished\n",
      "C:\\ProgramData\\Anaconda3\\lib\\site-packages\\sklearn\\model_selection\\_search.py:814: DeprecationWarning: The default of the `iid` parameter will change from True to False in version 0.22 and will be removed in 0.24. This will change numeric results when test-set sizes are unequal.\n",
      "  DeprecationWarning)\n"
     ]
    },
    {
     "name": "stdout",
     "output_type": "stream",
     "text": [
      "********************* Model Performance Summary *********************\n",
      "\n",
      "\n",
      "***** Cross Validation using 10 folds *****\n",
      "Mean Accuracy: 0.6533333333333333\n",
      "STD: 0.08192137151629673\n",
      "\n",
      "***** Confusion Matrix *****\n",
      "[[25  4]\n",
      " [18 13]]\n",
      "\n",
      "***** Classification Report *****\n",
      "              precision    recall  f1-score   support\n",
      "\n",
      "           0       0.58      0.86      0.69        29\n",
      "           1       0.76      0.42      0.54        31\n",
      "\n",
      "    accuracy                           0.63        60\n",
      "   macro avg       0.67      0.64      0.62        60\n",
      "weighted avg       0.68      0.63      0.62        60\n",
      "\n",
      "\n",
      "***** Classification Accuracy *****\n",
      "0.6333333333333333\n",
      "\n",
      "**********************************************************************\n"
     ]
    }
   ],
   "source": [
    "svc_pca_clf = grid_scv(X_pca_train, y_pca_train)\n",
    "svc_pca_clf.fit(X_pca_train, y_pca_train)\n",
    "y_pca_pred = svc_pca_clf.predict(X_pca_test)\n",
    "perf_summary(svc_pca_clf, y_pca_test,y_pca_pred, X_pca, y, cv = 10)"
   ]
  },
  {
   "cell_type": "markdown",
   "metadata": {},
   "source": [
    "### Random Forest with PCA"
   ]
  },
  {
   "cell_type": "code",
   "execution_count": 72,
   "metadata": {},
   "outputs": [
    {
     "name": "stderr",
     "output_type": "stream",
     "text": [
      "C:\\ProgramData\\Anaconda3\\lib\\site-packages\\sklearn\\model_selection\\_split.py:1978: FutureWarning: The default value of cv will change from 3 to 5 in version 0.22. Specify it explicitly to silence this warning.\n",
      "  warnings.warn(CV_WARNING, FutureWarning)\n"
     ]
    },
    {
     "name": "stdout",
     "output_type": "stream",
     "text": [
      "Fitting 3 folds for each of 36 candidates, totalling 108 fits\n"
     ]
    },
    {
     "name": "stderr",
     "output_type": "stream",
     "text": [
      "[Parallel(n_jobs=-1)]: Using backend LokyBackend with 4 concurrent workers.\n",
      "[Parallel(n_jobs=-1)]: Done  42 tasks      | elapsed:   26.5s\n",
      "[Parallel(n_jobs=-1)]: Done 108 out of 108 | elapsed:  1.0min finished\n",
      "C:\\ProgramData\\Anaconda3\\lib\\site-packages\\sklearn\\model_selection\\_search.py:814: DeprecationWarning: The default of the `iid` parameter will change from True to False in version 0.22 and will be removed in 0.24. This will change numeric results when test-set sizes are unequal.\n",
      "  DeprecationWarning)\n"
     ]
    },
    {
     "name": "stdout",
     "output_type": "stream",
     "text": [
      "********************* Model Performance Summary *********************\n",
      "\n",
      "\n",
      "***** Cross Validation using 10 folds *****\n",
      "Mean Accuracy: 0.6266666666666667\n",
      "STD: 0.06289320754704401\n",
      "\n",
      "***** Confusion Matrix *****\n",
      "[[22  7]\n",
      " [17 14]]\n",
      "\n",
      "***** Classification Report *****\n",
      "              precision    recall  f1-score   support\n",
      "\n",
      "           0       0.56      0.76      0.65        29\n",
      "           1       0.67      0.45      0.54        31\n",
      "\n",
      "    accuracy                           0.60        60\n",
      "   macro avg       0.62      0.61      0.59        60\n",
      "weighted avg       0.62      0.60      0.59        60\n",
      "\n",
      "\n",
      "***** Classification Accuracy *****\n",
      "0.6\n",
      "\n",
      "**********************************************************************\n"
     ]
    }
   ],
   "source": [
    "RF_pca_clf = grid_rf(X_pca_train, y_pca_train)\n",
    "RF_pca_clf.fit(X_pca_train,y_pca_train)\n",
    "y_pca_pred = RF_pca_clf.predict(X_pca_test)\n",
    "perf_summary(RF_pca_clf, y_pca_test,y_pca_pred, X_pca, y, cv = 10)"
   ]
  }
 ],
 "metadata": {
  "kernelspec": {
   "display_name": "Python 3",
   "language": "python",
   "name": "python3"
  }
 },
 "nbformat": 4,
 "nbformat_minor": 2
}
