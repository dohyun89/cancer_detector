{
 "cells": [
  {
   "cell_type": "code",
   "execution_count": 41,
   "metadata": {},
   "outputs": [],
   "source": [
    "import numpy as np\n",
    "import pandas as pd\n",
    "import sklearn as sk\n",
    "import seaborn as sns\n",
    "import cv2 as cv\n",
    "import os\n",
    "\n",
    "from sklearn.model_selection import cross_val_score\n",
    "from sklearn.model_selection import train_test_split\n",
    "from sklearn.metrics import confusion_matrix\n",
    "from sklearn.svm import SVC\n",
    "from sklearn.linear_model import LogisticRegression as LR\n",
    "from sklearn.ensemble import RandomForestClassifier\n",
    "\n",
    "import sys\n",
    "sys.path.append('./Do_s_python_utils')\n",
    "from resize_imgs import *\n",
    "from flatten_imgs_np_array import *"
   ]
  },
  {
   "cell_type": "markdown",
   "metadata": {},
   "source": [
    "## resizing segmented files. "
   ]
  },
  {
   "cell_type": "code",
   "execution_count": 5,
   "metadata": {},
   "outputs": [],
   "source": [
    "seg_benign_path = 'C:\\\\Users\\\\dohyu\\\\Documents\\\\Homework\\\\stat_542_hw\\\\stat_542_group\\\\Segmented\\\\benign'\n",
    "seg_malignant_path = 'C:\\\\Users\\\\dohyu\\\\Documents\\\\Homework\\\\stat_542_hw\\\\stat_542_group\\\\Segmented\\\\malignant'\n",
    "seg_benign_path_28 = 'C:\\\\Users\\\\dohyu\\\\Documents\\\\Homework\\\\stat_542_hw\\\\stat_542_group\\\\Segmented_28\\\\benign'\n",
    "seg_malignant_path_28 = 'C:\\\\Users\\\\dohyu\\\\Documents\\\\Homework\\\\stat_542_hw\\\\stat_542_group\\\\Segmented_28\\\\malignant'\n",
    "resize_imgs(seg_benign_path, seg_benign_path_28, (28,28))\n",
    "resize_imgs(seg_malignant_path, seg_malignant_path_28, (28,28))"
   ]
  },
  {
   "cell_type": "markdown",
   "metadata": {},
   "source": [
    "## X and y (flattened and splitted)"
   ]
  },
  {
   "cell_type": "code",
   "execution_count": 27,
   "metadata": {},
   "outputs": [],
   "source": [
    "seg_path_28 = 'C:\\\\Users\\\\dohyu\\\\Documents\\\\Homework\\\\stat_542_hw\\\\stat_542_group\\\\Segmented_28'\n",
    "X, y = flatten_imgs_np_array(seg_path_28)\n",
    "X_train, X_test, y_train, y_test = train_test_split(X, y, test_size = 0.25, random_state = 42)"
   ]
  },
  {
   "cell_type": "markdown",
   "metadata": {},
   "source": [
    "### Training logistic with L1 Penalty"
   ]
  },
  {
   "cell_type": "code",
   "execution_count": 54,
   "metadata": {
    "scrolled": false
   },
   "outputs": [
    {
     "name": "stdout",
     "output_type": "stream",
     "text": [
      "[[20 17]\n",
      " [17 21]]\n"
     ]
    }
   ],
   "source": [
    "lr_clf = LR(penalty = 'l1', solver = 'liblinear')\n",
    "lr_clf.fit(X_train, y_train)\n",
    "y_pred = lr_clf.predict(X_test)\n",
    "print(confusion_matrix(y_test,y_pred))"
   ]
  },
  {
   "cell_type": "code",
   "execution_count": 55,
   "metadata": {
    "scrolled": true
   },
   "outputs": [
    {
     "data": {
      "text/plain": [
       "array([0.625     , 0.79166667, 0.56521739, 0.72727273, 0.45454545,\n",
       "       0.68181818, 0.68181818, 0.59090909, 0.59090909, 0.68181818])"
      ]
     },
     "execution_count": 55,
     "metadata": {},
     "output_type": "execute_result"
    }
   ],
   "source": [
    "cross_val_score(lr_clf, X_train, y_train, cv = 10 )"
   ]
  },
  {
   "cell_type": "markdown",
   "metadata": {},
   "source": [
    "### Training SVC"
   ]
  },
  {
   "cell_type": "code",
   "execution_count": null,
   "metadata": {},
   "outputs": [],
   "source": []
  }
 ],
 "metadata": {
  "kernelspec": {
   "display_name": "Python 3",
   "language": "python",
   "name": "python3"
  },
  "language_info": {
   "codemirror_mode": {
    "name": "ipython",
    "version": 3
   },
   "file_extension": ".py",
   "mimetype": "text/x-python",
   "name": "python",
   "nbconvert_exporter": "python",
   "pygments_lexer": "ipython3",
   "version": "3.7.1"
  }
 },
 "nbformat": 4,
 "nbformat_minor": 2
}
