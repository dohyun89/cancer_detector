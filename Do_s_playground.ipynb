{
 "cells": [
  {
   "cell_type": "code",
   "execution_count": 174,
   "metadata": {},
   "outputs": [],
   "source": [
    "import numpy as np\n",
    "import pandas as pd\n",
    "import sklearn as sk\n",
    "import seaborn as sns\n",
    "import cv2 as cv\n",
    "import os\n",
    "\n",
    "from sklearn.model_selection import cross_val_score\n",
    "from sklearn.model_selection import train_test_split\n",
    "from sklearn.model_selection import GridSearchCV\n",
    "from sklearn.metrics import confusion_matrix\n",
    "from sklearn.metrics import accuracy_score\n",
    "from sklearn.metrics import classification_report\n",
    "from sklearn.svm import SVC\n",
    "from sklearn.linear_model import LogisticRegression as LR\n",
    "from sklearn.ensemble import RandomForestClassifier as RF\n",
    "from sklearn.decomposition import PCA\n",
    "\n",
    "import sys\n",
    "sys.path.append('./Do_s_python_utils')\n",
    "from resize_imgs import *\n",
    "from flatten_imgs_np_array import *"
   ]
  },
  {
   "cell_type": "markdown",
   "metadata": {},
   "source": [
    "## resizing segmented files. "
   ]
  },
  {
   "cell_type": "code",
   "execution_count": 5,
   "metadata": {},
   "outputs": [],
   "source": [
    "seg_benign_path = 'C:\\\\Users\\\\dohyu\\\\Documents\\\\Homework\\\\stat_542_hw\\\\stat_542_group\\\\Segmented\\\\benign'\n",
    "seg_malignant_path = 'C:\\\\Users\\\\dohyu\\\\Documents\\\\Homework\\\\stat_542_hw\\\\stat_542_group\\\\Segmented\\\\malignant'\n",
    "seg_benign_path_28 = 'C:\\\\Users\\\\dohyu\\\\Documents\\\\Homework\\\\stat_542_hw\\\\stat_542_group\\\\Segmented_28\\\\benign'\n",
    "seg_malignant_path_28 = 'C:\\\\Users\\\\dohyu\\\\Documents\\\\Homework\\\\stat_542_hw\\\\stat_542_group\\\\Segmented_28\\\\malignant'\n",
    "resize_imgs(seg_benign_path, seg_benign_path_28, (28,28))\n",
    "resize_imgs(seg_malignant_path, seg_malignant_path_28, (28,28))"
   ]
  },
  {
   "cell_type": "markdown",
   "metadata": {},
   "source": [
    "## X and y (flattened and splitted)"
   ]
  },
  {
   "cell_type": "code",
   "execution_count": 27,
   "metadata": {},
   "outputs": [],
   "source": [
    "seg_path_28 = 'C:\\\\Users\\\\dohyu\\\\Documents\\\\Homework\\\\stat_542_hw\\\\stat_542_group\\\\Segmented_28'\n",
    "X, y = flatten_imgs_np_array(seg_path_28)\n",
    "X_train, X_test, y_train, y_test = train_test_split(X, y, test_size = 0.25, random_state = 42)"
   ]
  },
  {
   "cell_type": "code",
   "execution_count": 122,
   "metadata": {},
   "outputs": [
    {
     "data": {
      "text/plain": [
       "array([100., 500.])"
      ]
     },
     "execution_count": 122,
     "metadata": {},
     "output_type": "execute_result"
    }
   ],
   "source": [
    " np.linspace(start = 100, stop = 500, num = 2)"
   ]
  },
  {
   "cell_type": "code",
   "execution_count": 196,
   "metadata": {},
   "outputs": [],
   "source": [
    "def perf_summary(model, y_test, y_pred, X, y, cv):\n",
    "    score = cross_val_score(model, X, y, cv = cv )\n",
    "    avg_acc = np.mean(score)\n",
    "    std_acc = np.std(score)\n",
    "    print('********************* Model Performance Summary *********************\\n\\n')\n",
    "    print('***** Cross Validation using {} folds *****\\nMean Accuracy: {}\\nSTD: {}'.format(cv, avg_acc, std_acc))\n",
    "    \n",
    "    print('\\n***** Confusion Matrix *****\\n{}'.format(confusion_matrix(y_test,y_pred)))\n",
    "    print('\\n***** Classification Report *****\\n{}'.format(classification_report(y_test,y_pred)))\n",
    "    print('\\n***** Classification Accuracy *****\\n{}'.format(accuracy_score(y_test,y_pred)))\n",
    "    print('\\n**********************************************************************')\n",
    "\n",
    "    \n",
    "def grid_scv(X_train, y_train):\n",
    "    param_grids = {'kernel': ['linear', 'poly', 'rbf', 'sigmoid'],\n",
    "              'C':[1, 10]}\n",
    "\n",
    "    svc_clf = SVC(gamma = 'auto')\n",
    "    grid_svc = GridSearchCV(svc_clf, param_grids, verbose = 0)\n",
    "    grid_svc.fit(X_train, y_train)\n",
    "    return(grid_svc.best_estimator_)\n",
    "\n",
    "def grid_rf(X_train,y_train):\n",
    "    n_estimators = [100,500]\n",
    "    max_depth = [None, 5, 10]\n",
    "    min_samples_split = [2, 5]\n",
    "    min_samples_leaf = [1, 2, 4]\n",
    "    param_grids = {'n_estimators': n_estimators,\n",
    "                   'max_depth': max_depth,\n",
    "                   'min_samples_split': min_samples_split,\n",
    "                   'min_samples_leaf': min_samples_leaf}\n",
    "    randf_clf = RF(n_jobs = -1)\n",
    "    grid_RF = GridSearchCV(randf_clf,param_grids, verbose = 0)\n",
    "    grid_RF.fit(X_train, y_train)\n",
    "    return(grid_RF.best_estimator_)"
   ]
  },
  {
   "cell_type": "markdown",
   "metadata": {},
   "source": [
    "### Training logistic with L1 Penalty"
   ]
  },
  {
   "cell_type": "code",
   "execution_count": 197,
   "metadata": {
    "scrolled": false
   },
   "outputs": [
    {
     "name": "stdout",
     "output_type": "stream",
     "text": [
      "********************* Model Performance Summary *********************\n",
      "\n",
      "\n",
      "***** Cross Validation using 10 folds *****\n",
      "Mean Accuracy: 0.5666666666666667\n",
      "STD: 0.09775252199076784\n",
      "\n",
      "***** Confusion Matrix *****\n",
      "[[22 15]\n",
      " [18 20]]\n",
      "\n",
      "***** Classification Report *****\n",
      "              precision    recall  f1-score   support\n",
      "\n",
      "           0       0.55      0.59      0.57        37\n",
      "           1       0.57      0.53      0.55        38\n",
      "\n",
      "    accuracy                           0.56        75\n",
      "   macro avg       0.56      0.56      0.56        75\n",
      "weighted avg       0.56      0.56      0.56        75\n",
      "\n",
      "\n",
      "***** Classification Accuracy *****\n",
      "0.56\n",
      "\n",
      "**********************************************************************\n"
     ]
    }
   ],
   "source": [
    "lr_clf = LR(penalty = 'l1', solver = 'liblinear')\n",
    "lr_clf.fit(X_train, y_train)\n",
    "y_pred = lr_clf.predict(X_test)\n",
    "perf_summary(lr_clf, y_test,y_pred, X, y, cv = 10)"
   ]
  },
  {
   "cell_type": "markdown",
   "metadata": {},
   "source": [
    "### Training SVC"
   ]
  },
  {
   "cell_type": "code",
   "execution_count": 198,
   "metadata": {
    "scrolled": false
   },
   "outputs": [
    {
     "name": "stderr",
     "output_type": "stream",
     "text": [
      "C:\\ProgramData\\Anaconda3\\lib\\site-packages\\sklearn\\model_selection\\_split.py:1978: FutureWarning: The default value of cv will change from 3 to 5 in version 0.22. Specify it explicitly to silence this warning.\n",
      "  warnings.warn(CV_WARNING, FutureWarning)\n",
      "C:\\ProgramData\\Anaconda3\\lib\\site-packages\\sklearn\\model_selection\\_search.py:814: DeprecationWarning: The default of the `iid` parameter will change from True to False in version 0.22 and will be removed in 0.24. This will change numeric results when test-set sizes are unequal.\n",
      "  DeprecationWarning)\n"
     ]
    },
    {
     "name": "stdout",
     "output_type": "stream",
     "text": [
      "********************* Model Performance Summary *********************\n",
      "\n",
      "\n",
      "***** Cross Validation using 10 folds *****\n",
      "Mean Accuracy: 0.5433333333333332\n",
      "STD: 0.06506407098647711\n",
      "\n",
      "***** Confusion Matrix *****\n",
      "[[21 16]\n",
      " [17 21]]\n",
      "\n",
      "***** Classification Report *****\n",
      "              precision    recall  f1-score   support\n",
      "\n",
      "           0       0.55      0.57      0.56        37\n",
      "           1       0.57      0.55      0.56        38\n",
      "\n",
      "    accuracy                           0.56        75\n",
      "   macro avg       0.56      0.56      0.56        75\n",
      "weighted avg       0.56      0.56      0.56        75\n",
      "\n",
      "\n",
      "***** Classification Accuracy *****\n",
      "0.56\n",
      "\n",
      "**********************************************************************\n"
     ]
    }
   ],
   "source": [
    "svc_clf = grid_scv(X_train, y_train)\n",
    "svc_clf.fit(X_train, y_train)\n",
    "y_pred = svc_clf.predict(X_test)\n",
    "perf_summary(svc_clf, y_test,y_pred, X, y, cv = 10)"
   ]
  },
  {
   "cell_type": "markdown",
   "metadata": {},
   "source": [
    "### Training Random Forest"
   ]
  },
  {
   "cell_type": "code",
   "execution_count": 199,
   "metadata": {},
   "outputs": [
    {
     "name": "stderr",
     "output_type": "stream",
     "text": [
      "C:\\ProgramData\\Anaconda3\\lib\\site-packages\\sklearn\\model_selection\\_split.py:1978: FutureWarning: The default value of cv will change from 3 to 5 in version 0.22. Specify it explicitly to silence this warning.\n",
      "  warnings.warn(CV_WARNING, FutureWarning)\n",
      "C:\\ProgramData\\Anaconda3\\lib\\site-packages\\sklearn\\model_selection\\_search.py:814: DeprecationWarning: The default of the `iid` parameter will change from True to False in version 0.22 and will be removed in 0.24. This will change numeric results when test-set sizes are unequal.\n",
      "  DeprecationWarning)\n"
     ]
    },
    {
     "name": "stdout",
     "output_type": "stream",
     "text": [
      "********************* Model Performance Summary *********************\n",
      "\n",
      "\n",
      "***** Cross Validation using 10 folds *****\n",
      "Mean Accuracy: 0.6666666666666667\n",
      "STD: 0.11925695879998881\n",
      "\n",
      "***** Confusion Matrix *****\n",
      "[[28  9]\n",
      " [18 20]]\n",
      "\n",
      "***** Classification Report *****\n",
      "              precision    recall  f1-score   support\n",
      "\n",
      "           0       0.61      0.76      0.67        37\n",
      "           1       0.69      0.53      0.60        38\n",
      "\n",
      "    accuracy                           0.64        75\n",
      "   macro avg       0.65      0.64      0.64        75\n",
      "weighted avg       0.65      0.64      0.64        75\n",
      "\n",
      "\n",
      "***** Classification Accuracy *****\n",
      "0.64\n",
      "\n",
      "**********************************************************************\n"
     ]
    }
   ],
   "source": [
    "RF_clf = grid_rf(X_train, y_train)\n",
    "RF_clf.fit(X_train,y_train)\n",
    "y_pred = RF_clf.predict(X_test)\n",
    "perf_summary(RF_clf, y_test,y_pred, X, y, cv = 10)"
   ]
  },
  {
   "cell_type": "markdown",
   "metadata": {},
   "source": [
    "### Building Models With Principal Components"
   ]
  },
  {
   "cell_type": "code",
   "execution_count": 200,
   "metadata": {
    "scrolled": false
   },
   "outputs": [
    {
     "data": {
      "text/plain": [
       "PCA(copy=True, iterated_power='auto', n_components=300, random_state=None,\n",
       "    svd_solver='auto', tol=0.0, whiten=False)"
      ]
     },
     "execution_count": 200,
     "metadata": {},
     "output_type": "execute_result"
    }
   ],
   "source": [
    "pca = PCA(300)\n",
    "pca.fit(X)\n"
   ]
  },
  {
   "cell_type": "code",
   "execution_count": 201,
   "metadata": {},
   "outputs": [
    {
     "data": {
      "text/plain": [
       "<matplotlib.axes._subplots.AxesSubplot at 0x1b101fd3b00>"
      ]
     },
     "execution_count": 201,
     "metadata": {},
     "output_type": "execute_result"
    },
    {
     "data": {
      "image/png": "[encoded data removed]",
      "text/plain": [
       "<Figure size 432x288 with 1 Axes>"
      ]
     },
     "metadata": {},
     "output_type": "display_data"
    }
   ],
   "source": [
    "stop = 10\n",
    "sns.scatterplot(x = np.linspace(start =1, stop = stop, num = stop),y=pca.explained_variance_ratio_[0:stop])"
   ]
  },
  {
   "cell_type": "code",
   "execution_count": 202,
   "metadata": {
    "scrolled": false
   },
   "outputs": [],
   "source": [
    "pca = PCA(5)\n",
    "pca.fit(X)\n",
    "X_pca = pca.transform(X)\n"
   ]
  },
  {
   "cell_type": "code",
   "execution_count": 203,
   "metadata": {},
   "outputs": [],
   "source": [
    "X_pca_train, X_pca_test, y_pca_train, y_pca_test=train_test_split(X_pca, y, random_state = 42)"
   ]
  },
  {
   "cell_type": "markdown",
   "metadata": {},
   "source": [
    "### Logistic Regression with L1 Penalty"
   ]
  },
  {
   "cell_type": "code",
   "execution_count": 204,
   "metadata": {},
   "outputs": [
    {
     "name": "stdout",
     "output_type": "stream",
     "text": [
      "********************* Model Performance Summary *********************\n",
      "\n",
      "\n",
      "***** Cross Validation using 10 folds *****\n",
      "Mean Accuracy: 0.6666666666666667\n",
      "STD: 0.09428090415820635\n",
      "\n",
      "***** Confusion Matrix *****\n",
      "[[31  6]\n",
      " [22 16]]\n",
      "\n",
      "***** Classification Report *****\n",
      "              precision    recall  f1-score   support\n",
      "\n",
      "           0       0.58      0.84      0.69        37\n",
      "           1       0.73      0.42      0.53        38\n",
      "\n",
      "    accuracy                           0.63        75\n",
      "   macro avg       0.66      0.63      0.61        75\n",
      "weighted avg       0.66      0.63      0.61        75\n",
      "\n",
      "\n",
      "***** Classification Accuracy *****\n",
      "0.6266666666666667\n",
      "\n",
      "**********************************************************************\n"
     ]
    }
   ],
   "source": [
    "lr_pca_clf = LR(penalty = 'l1', solver = 'liblinear')\n",
    "lr_pca_clf.fit(X_pca_train, y_pca_train)\n",
    "y_pca_pred = lr_pca_clf.predict(X_pca_test)\n",
    "perf_summary(lr_pca_clf, y_pca_test,y_pca_pred, X_pca, y, cv = 10)"
   ]
  },
  {
   "cell_type": "markdown",
   "metadata": {},
   "source": [
    "### SVC with PCA"
   ]
  },
  {
   "cell_type": "code",
   "execution_count": null,
   "metadata": {},
   "outputs": [
    {
     "name": "stderr",
     "output_type": "stream",
     "text": [
      "C:\\ProgramData\\Anaconda3\\lib\\site-packages\\sklearn\\model_selection\\_split.py:1978: FutureWarning: The default value of cv will change from 3 to 5 in version 0.22. Specify it explicitly to silence this warning.\n",
      "  warnings.warn(CV_WARNING, FutureWarning)\n"
     ]
    }
   ],
   "source": [
    "svc_pca_clf = grid_scv(X_pca_train, y_pca_train)\n",
    "svc_pca_clf.fit(X_pca_train, y_pca_train)\n",
    "y_pca_pred = svc_pca_clf.predict(X_pca_test)\n",
    "perf_summary(svc_pca_clf, y_pca_test,y_pca_pred, X_pca, y, cv = 10)"
   ]
  },
  {
   "cell_type": "markdown",
   "metadata": {},
   "source": [
    "### Random Forest with PCA"
   ]
  },
  {
   "cell_type": "code",
   "execution_count": null,
   "metadata": {},
   "outputs": [],
   "source": [
    "RF_pca_clf = grid_rf(X_pca_train, y_pca_train)\n",
    "RF_pca_clf.fit(X_pca_train,y_pca_train)\n",
    "y_pca_pred = RF_pca_clf.predict(X_pca_test)\n",
    "perf_summary(RF_pca_clf, y_pca_test,y_pca_pred, X_pca, y, cv = 10)"
   ]
  }
 ],
 "metadata": {
  "kernelspec": {
   "display_name": "Python 3",
   "language": "python",
   "name": "python3"
  },
  "language_info": {
   "codemirror_mode": {
    "name": "ipython",
    "version": 3
   },
   "file_extension": ".py",
   "mimetype": "text/x-python",
   "name": "python",
   "nbconvert_exporter": "python",
   "pygments_lexer": "ipython3",
   "version": "3.7.1"
  }
 },
 "nbformat": 4,
 "nbformat_minor": 2
}
