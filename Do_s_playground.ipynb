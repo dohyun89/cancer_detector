{
 "cells": [
  {
   "cell_type": "code",
   "execution_count": 112,
   "metadata": {},
   "outputs": [],
   "source": [
    "import numpy as np\n",
    "import pandas as pd\n",
    "import sklearn as sk\n",
    "import seaborn as sns\n",
    "import cv2 as cv\n",
    "import os\n",
    "\n",
    "from sklearn.model_selection import cross_val_score\n",
    "from sklearn.model_selection import train_test_split\n",
    "from sklearn.model_selection import GridSearchCV\n",
    "from sklearn.metrics import confusion_matrix\n",
    "from sklearn.metrics import classification_report\n",
    "from sklearn.svm import SVC\n",
    "from sklearn.linear_model import LogisticRegression as LR\n",
    "from sklearn.ensemble import RandomForestClassifier as RF\n",
    "\n",
    "import sys\n",
    "sys.path.append('./Do_s_python_utils')\n",
    "from resize_imgs import *\n",
    "from flatten_imgs_np_array import *"
   ]
  },
  {
   "cell_type": "markdown",
   "metadata": {},
   "source": [
    "## resizing segmented files. "
   ]
  },
  {
   "cell_type": "code",
   "execution_count": 5,
   "metadata": {},
   "outputs": [],
   "source": [
    "seg_benign_path = 'C:\\\\Users\\\\dohyu\\\\Documents\\\\Homework\\\\stat_542_hw\\\\stat_542_group\\\\Segmented\\\\benign'\n",
    "seg_malignant_path = 'C:\\\\Users\\\\dohyu\\\\Documents\\\\Homework\\\\stat_542_hw\\\\stat_542_group\\\\Segmented\\\\malignant'\n",
    "seg_benign_path_28 = 'C:\\\\Users\\\\dohyu\\\\Documents\\\\Homework\\\\stat_542_hw\\\\stat_542_group\\\\Segmented_28\\\\benign'\n",
    "seg_malignant_path_28 = 'C:\\\\Users\\\\dohyu\\\\Documents\\\\Homework\\\\stat_542_hw\\\\stat_542_group\\\\Segmented_28\\\\malignant'\n",
    "resize_imgs(seg_benign_path, seg_benign_path_28, (28,28))\n",
    "resize_imgs(seg_malignant_path, seg_malignant_path_28, (28,28))"
   ]
  },
  {
   "cell_type": "markdown",
   "metadata": {},
   "source": [
    "## X and y (flattened and splitted)"
   ]
  },
  {
   "cell_type": "code",
   "execution_count": 27,
   "metadata": {},
   "outputs": [],
   "source": [
    "seg_path_28 = 'C:\\\\Users\\\\dohyu\\\\Documents\\\\Homework\\\\stat_542_hw\\\\stat_542_group\\\\Segmented_28'\n",
    "X, y = flatten_imgs_np_array(seg_path_28)\n",
    "X_train, X_test, y_train, y_test = train_test_split(X, y, test_size = 0.25, random_state = 42)"
   ]
  },
  {
   "cell_type": "code",
   "execution_count": 122,
   "metadata": {},
   "outputs": [
    {
     "data": {
      "text/plain": [
       "array([100., 500.])"
      ]
     },
     "execution_count": 122,
     "metadata": {},
     "output_type": "execute_result"
    }
   ],
   "source": [
    " np.linspace(start = 100, stop = 500, num = 2)"
   ]
  },
  {
   "cell_type": "code",
   "execution_count": 123,
   "metadata": {},
   "outputs": [],
   "source": [
    "def perf_summary(y_test,y_pred):\n",
    "    print(confusion_matrix(y_test,y_pred))\n",
    "    print(classification_report(y_test,y_pred))\n",
    "\n",
    "def print_cross_val_score(model, X_train, y_train, num_cv):\n",
    "    score = cross_val_score(model, X_train, y_train, cv = num_cv )\n",
    "    avg_acc = np.mean(score)\n",
    "    std_acc = np.std(score)\n",
    "    print('avg_acc:{}\\nstd_acc:{}'.format(avg_acc, std_acc))\n",
    "    \n",
    "def grid_scv(X_train, y_train):\n",
    "    param_grids = {'kernel': ['linear', 'poly', 'rbf', 'sigmoid'],\n",
    "              'C':[1, 10]}\n",
    "\n",
    "    svc_clf = SVC(gamma = 'auto')\n",
    "    grid_svc = GridSearchCV(svc_clf, param_grids, verbose = 0)\n",
    "    grid_svc.fit(X_train, y_train)\n",
    "    return(grid_svc.best_estimator_)\n",
    "\n",
    "def grid_rf(X_train,y_train):\n",
    "    n_estimators = [100,500]\n",
    "    max_depth = [None, 5, 10]\n",
    "    min_samples_split = [2, 5]\n",
    "    min_samples_leaf = [1, 2, 4]\n",
    "    param_grids = {'n_estimators': n_estimators,\n",
    "                   'max_depth': max_depth,\n",
    "                   'min_samples_split': min_samples_split,\n",
    "                   'min_samples_leaf': min_samples_leaf}\n",
    "    randf_clf = RF(n_jobs = -1)\n",
    "    grid_RF = GridSearchCV(randf_clf,param_grids, verbose = 0)\n",
    "    grid_RF.fit(X_train, y_train)\n",
    "    return(grid_RF.best_estimator_)"
   ]
  },
  {
   "cell_type": "markdown",
   "metadata": {},
   "source": [
    "### Training logistic with L1 Penalty"
   ]
  },
  {
   "cell_type": "code",
   "execution_count": 102,
   "metadata": {
    "scrolled": false
   },
   "outputs": [
    {
     "name": "stdout",
     "output_type": "stream",
     "text": [
      "[[20 17]\n",
      " [18 20]]\n",
      "              precision    recall  f1-score   support\n",
      "\n",
      "           0       0.53      0.54      0.53        37\n",
      "           1       0.54      0.53      0.53        38\n",
      "\n",
      "    accuracy                           0.53        75\n",
      "   macro avg       0.53      0.53      0.53        75\n",
      "weighted avg       0.53      0.53      0.53        75\n",
      "\n"
     ]
    }
   ],
   "source": [
    "lr_clf = LR(penalty = 'l1', solver = 'liblinear')\n",
    "lr_clf.fit(X_train, y_train)\n",
    "y_pred = lr_clf.predict(X_test)\n",
    "perf_summary(y_test,y_pred)"
   ]
  },
  {
   "cell_type": "code",
   "execution_count": 103,
   "metadata": {
    "scrolled": true
   },
   "outputs": [
    {
     "name": "stdout",
     "output_type": "stream",
     "text": [
      "avg_acc:0.6300065876152832\n",
      "std_acc:0.0773935181317182\n"
     ]
    }
   ],
   "source": [
    "score = cross_val_score(lr_clf, X_train, y_train, cv = 10 )\n",
    "avg_acc = np.mean(score)\n",
    "std_acc = np.std(score)\n",
    "print('avg_acc:{}\\nstd_acc:{}'.format(avg_acc, std_acc))"
   ]
  },
  {
   "cell_type": "markdown",
   "metadata": {},
   "source": [
    "### Training SVC"
   ]
  },
  {
   "cell_type": "code",
   "execution_count": 106,
   "metadata": {
    "scrolled": true
   },
   "outputs": [
    {
     "name": "stderr",
     "output_type": "stream",
     "text": [
      "C:\\ProgramData\\Anaconda3\\lib\\site-packages\\sklearn\\model_selection\\_split.py:1978: FutureWarning: The default value of cv will change from 3 to 5 in version 0.22. Specify it explicitly to silence this warning.\n",
      "  warnings.warn(CV_WARNING, FutureWarning)\n",
      "C:\\ProgramData\\Anaconda3\\lib\\site-packages\\sklearn\\model_selection\\_search.py:814: DeprecationWarning: The default of the `iid` parameter will change from True to False in version 0.22 and will be removed in 0.24. This will change numeric results when test-set sizes are unequal.\n",
      "  DeprecationWarning)\n"
     ]
    },
    {
     "name": "stdout",
     "output_type": "stream",
     "text": [
      "[[21 16]\n",
      " [17 21]]\n",
      "              precision    recall  f1-score   support\n",
      "\n",
      "           0       0.55      0.57      0.56        37\n",
      "           1       0.57      0.55      0.56        38\n",
      "\n",
      "    accuracy                           0.56        75\n",
      "   macro avg       0.56      0.56      0.56        75\n",
      "weighted avg       0.56      0.56      0.56        75\n",
      "\n"
     ]
    }
   ],
   "source": [
    "svc_clf = grid_scv(X_train, y_train)\n",
    "svc_clf.fit(X_train, y_train)\n",
    "y_pred = svc_clf.predict(X_test)\n",
    "perf_summary(y_test, y_pred)"
   ]
  },
  {
   "cell_type": "code",
   "execution_count": 111,
   "metadata": {},
   "outputs": [
    {
     "name": "stdout",
     "output_type": "stream",
     "text": [
      "avg_acc:0.5932641633728589\n",
      "std_acc:0.08811308064719905\n"
     ]
    }
   ],
   "source": [
    "print_cross_val_score(svc_clf, X_train, y_train, 10)"
   ]
  },
  {
   "cell_type": "markdown",
   "metadata": {},
   "source": [
    "### Training Random Forest"
   ]
  },
  {
   "cell_type": "code",
   "execution_count": 125,
   "metadata": {},
   "outputs": [
    {
     "name": "stderr",
     "output_type": "stream",
     "text": [
      "C:\\ProgramData\\Anaconda3\\lib\\site-packages\\sklearn\\model_selection\\_split.py:1978: FutureWarning: The default value of cv will change from 3 to 5 in version 0.22. Specify it explicitly to silence this warning.\n",
      "  warnings.warn(CV_WARNING, FutureWarning)\n",
      "C:\\ProgramData\\Anaconda3\\lib\\site-packages\\sklearn\\model_selection\\_search.py:814: DeprecationWarning: The default of the `iid` parameter will change from True to False in version 0.22 and will be removed in 0.24. This will change numeric results when test-set sizes are unequal.\n",
      "  DeprecationWarning)\n"
     ]
    },
    {
     "name": "stdout",
     "output_type": "stream",
     "text": [
      "[[27 10]\n",
      " [20 18]]\n",
      "              precision    recall  f1-score   support\n",
      "\n",
      "           0       0.57      0.73      0.64        37\n",
      "           1       0.64      0.47      0.55        38\n",
      "\n",
      "    accuracy                           0.60        75\n",
      "   macro avg       0.61      0.60      0.59        75\n",
      "weighted avg       0.61      0.60      0.59        75\n",
      "\n"
     ]
    }
   ],
   "source": [
    "RF_clf = grid_rf(X_train, y_train)\n",
    "RF_clf.fit(X_train,y_train)\n",
    "y_pred = RF_clf.predict(X_test)\n",
    "perf_summary(y_test, y_pred)"
   ]
  },
  {
   "cell_type": "code",
   "execution_count": 126,
   "metadata": {},
   "outputs": [
    {
     "name": "stdout",
     "output_type": "stream",
     "text": [
      "avg_acc:0.6873847167325429\n",
      "std_acc:0.08105584120898149\n"
     ]
    }
   ],
   "source": [
    "print_cross_val_score(RF_clf, X_train,y_train, 10)"
   ]
  },
  {
   "cell_type": "code",
   "execution_count": null,
   "metadata": {},
   "outputs": [],
   "source": []
  }
 ],
 "metadata": {
  "kernelspec": {
   "display_name": "Python 3",
   "language": "python",
   "name": "python3"
  },
  "language_info": {
   "codemirror_mode": {
    "name": "ipython",
    "version": 3
   },
   "file_extension": ".py",
   "mimetype": "text/x-python",
   "name": "python",
   "nbconvert_exporter": "python",
   "pygments_lexer": "ipython3",
   "version": "3.7.1"
  }
 },
 "nbformat": 4,
 "nbformat_minor": 2
}
